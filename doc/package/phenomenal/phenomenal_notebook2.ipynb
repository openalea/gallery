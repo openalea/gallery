{
 "cells": [
  {
   "cell_type": "markdown",
   "id": "0ee063f1",
   "metadata": {},
   "source": [
    "# Second notebook"
   ]
  },
  {
   "cell_type": "markdown",
   "id": "d7b37580",
   "metadata": {},
   "source": []
  }
 ],
 "metadata": {
  "language_info": {
   "name": "python"
  }
 },
 "nbformat": 4,
 "nbformat_minor": 5
}
