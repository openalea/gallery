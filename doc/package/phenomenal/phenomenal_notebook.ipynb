{
 "cells": [
  {
   "cell_type": "markdown",
   "id": "8f4ee7f3",
   "metadata": {},
   "source": [
    "# First notebook"
   ]
  },
  {
   "cell_type": "markdown",
   "id": "9df46d5d",
   "metadata": {},
   "source": []
  }
 ],
 "metadata": {
  "language_info": {
   "name": "python"
  }
 },
 "nbformat": 4,
 "nbformat_minor": 5
}
