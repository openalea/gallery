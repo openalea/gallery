{
 "cells": [
  {
   "cell_type": "markdown",
   "id": "bac3e0f3",
   "metadata": {},
   "source": [
    "# Second notebook"
   ]
  },
  {
   "cell_type": "markdown",
   "id": "38392b9e",
   "metadata": {},
   "source": []
  }
 ],
 "metadata": {
  "language_info": {
   "name": "python"
  }
 },
 "nbformat": 4,
 "nbformat_minor": 5
}
